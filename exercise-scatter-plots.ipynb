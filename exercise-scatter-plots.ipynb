{
 "cells": [
  {
   "cell_type": "markdown",
   "id": "5b9ddfed",
   "metadata": {
    "papermill": {
     "duration": 0.025473,
     "end_time": "2021-11-29T06:24:26.043843",
     "exception": false,
     "start_time": "2021-11-29T06:24:26.018370",
     "status": "completed"
    },
    "tags": []
   },
   "source": [
    "**This notebook is an exercise in the [Data Visualization](https://www.kaggle.com/learn/data-visualization) course.  You can reference the tutorial at [this link](https://www.kaggle.com/alexisbcook/scatter-plots).**\n",
    "\n",
    "---\n"
   ]
  },
  {
   "cell_type": "markdown",
   "id": "0297e433",
   "metadata": {
    "papermill": {
     "duration": 0.021694,
     "end_time": "2021-11-29T06:24:26.087843",
     "exception": false,
     "start_time": "2021-11-29T06:24:26.066149",
     "status": "completed"
    },
    "tags": []
   },
   "source": [
    "In this exercise, you will use your new knowledge to propose a solution to a real-world scenario.  To succeed, you will need to import data into Python, answer questions using the data, and generate **scatter plots** to understand patterns in the data.\n",
    "\n",
    "## Scenario\n",
    "\n",
    "You work for a major candy producer, and your goal is to write a report that your company can use to guide the design of its next product.  Soon after starting your research, you stumble across this [very interesting dataset](https://fivethirtyeight.com/features/the-ultimate-halloween-candy-power-ranking/) containing results from a fun survey to crowdsource favorite candies.\n",
    "\n",
    "## Setup\n",
    "\n",
    "Run the next cell to import and configure the Python libraries that you need to complete the exercise."
   ]
  },
  {
   "cell_type": "code",
   "execution_count": 1,
   "id": "676e5881",
   "metadata": {
    "execution": {
     "iopub.execute_input": "2021-11-29T06:24:26.137521Z",
     "iopub.status.busy": "2021-11-29T06:24:26.135845Z",
     "iopub.status.idle": "2021-11-29T06:24:27.025648Z",
     "shell.execute_reply": "2021-11-29T06:24:27.024742Z",
     "shell.execute_reply.started": "2021-11-29T05:37:33.584674Z"
    },
    "papermill": {
     "duration": 0.916105,
     "end_time": "2021-11-29T06:24:27.025862",
     "exception": false,
     "start_time": "2021-11-29T06:24:26.109757",
     "status": "completed"
    },
    "tags": []
   },
   "outputs": [
    {
     "name": "stdout",
     "output_type": "stream",
     "text": [
      "Setup Complete\n"
     ]
    }
   ],
   "source": [
    "import pandas as pd\n",
    "pd.plotting.register_matplotlib_converters()\n",
    "import matplotlib.pyplot as plt\n",
    "%matplotlib inline\n",
    "import seaborn as sns\n",
    "print(\"Setup Complete\")"
   ]
  },
  {
   "cell_type": "markdown",
   "id": "fd0c0a4b",
   "metadata": {
    "papermill": {
     "duration": 0.022101,
     "end_time": "2021-11-29T06:24:27.071927",
     "exception": false,
     "start_time": "2021-11-29T06:24:27.049826",
     "status": "completed"
    },
    "tags": []
   },
   "source": [
    "The questions below will give you feedback on your work. Run the following cell to set up our feedback system."
   ]
  },
  {
   "cell_type": "code",
   "execution_count": 2,
   "id": "e0449be2",
   "metadata": {
    "execution": {
     "iopub.execute_input": "2021-11-29T06:24:27.121388Z",
     "iopub.status.busy": "2021-11-29T06:24:27.120712Z",
     "iopub.status.idle": "2021-11-29T06:24:27.177797Z",
     "shell.execute_reply": "2021-11-29T06:24:27.178700Z",
     "shell.execute_reply.started": "2021-11-29T05:37:34.536159Z"
    },
    "papermill": {
     "duration": 0.084932,
     "end_time": "2021-11-29T06:24:27.178987",
     "exception": false,
     "start_time": "2021-11-29T06:24:27.094055",
     "status": "completed"
    },
    "tags": []
   },
   "outputs": [
    {
     "name": "stdout",
     "output_type": "stream",
     "text": [
      "Setup Complete\n"
     ]
    }
   ],
   "source": [
    "# Set up code checking\n",
    "import os\n",
    "if not os.path.exists(\"../input/candy.csv\"):\n",
    "    os.symlink(\"../input/data-for-datavis/candy.csv\", \"../input/candy.csv\") \n",
    "from learntools.core import binder\n",
    "binder.bind(globals())\n",
    "from learntools.data_viz_to_coder.ex4 import *\n",
    "print(\"Setup Complete\")"
   ]
  },
  {
   "cell_type": "markdown",
   "id": "dcc0457e",
   "metadata": {
    "papermill": {
     "duration": 0.022239,
     "end_time": "2021-11-29T06:24:27.226399",
     "exception": false,
     "start_time": "2021-11-29T06:24:27.204160",
     "status": "completed"
    },
    "tags": []
   },
   "source": [
    "## Step 1: Load the Data\n",
    "\n",
    "Read the candy data file into `candy_data`.  Use the `\"id\"` column to label the rows."
   ]
  },
  {
   "cell_type": "code",
   "execution_count": 3,
   "id": "7f1f73fb",
   "metadata": {
    "execution": {
     "iopub.execute_input": "2021-11-29T06:24:27.275341Z",
     "iopub.status.busy": "2021-11-29T06:24:27.274691Z",
     "iopub.status.idle": "2021-11-29T06:24:27.288139Z",
     "shell.execute_reply": "2021-11-29T06:24:27.288730Z",
     "shell.execute_reply.started": "2021-11-29T05:41:48.715746Z"
    },
    "papermill": {
     "duration": 0.039841,
     "end_time": "2021-11-29T06:24:27.288914",
     "exception": false,
     "start_time": "2021-11-29T06:24:27.249073",
     "status": "completed"
    },
    "tags": []
   },
   "outputs": [
    {
     "data": {
      "application/javascript": [
       "parent.postMessage({\"jupyterEvent\": \"custom.exercise_interaction\", \"data\": {\"outcomeType\": 1, \"valueTowardsCompletion\": 0.3333333333333333, \"interactionType\": 1, \"questionType\": 1, \"questionId\": \"1_LoadData\", \"learnToolsVersion\": \"0.3.4\", \"failureMessage\": \"\", \"exceptionClass\": \"\", \"trace\": \"\"}}, \"*\")"
      ],
      "text/plain": [
       "<IPython.core.display.Javascript object>"
      ]
     },
     "metadata": {},
     "output_type": "display_data"
    },
    {
     "data": {
      "text/markdown": [
       "<span style=\"color:#33cc33\">Correct</span>"
      ],
      "text/plain": [
       "Correct"
      ]
     },
     "metadata": {},
     "output_type": "display_data"
    }
   ],
   "source": [
    "# Path of the file to read\n",
    "candy_filepath = \"../input/candy.csv\"\n",
    "\n",
    "# Fill in the line below to read the file into a variable candy_data\n",
    "candy_data = pd.read_csv(\"../input/candy.csv\",sep=',',index_col=\"id\")\n",
    "\n",
    "# Run the line below with no changes to check that you've loaded the data correctly\n",
    "step_1.check()"
   ]
  },
  {
   "cell_type": "code",
   "execution_count": 4,
   "id": "558dc6fc",
   "metadata": {
    "execution": {
     "iopub.execute_input": "2021-11-29T06:24:27.338442Z",
     "iopub.status.busy": "2021-11-29T06:24:27.337856Z",
     "iopub.status.idle": "2021-11-29T06:24:27.345826Z",
     "shell.execute_reply": "2021-11-29T06:24:27.346265Z",
     "shell.execute_reply.started": "2021-11-29T05:40:11.885797Z"
    },
    "papermill": {
     "duration": 0.034299,
     "end_time": "2021-11-29T06:24:27.346424",
     "exception": false,
     "start_time": "2021-11-29T06:24:27.312125",
     "status": "completed"
    },
    "tags": []
   },
   "outputs": [
    {
     "data": {
      "application/javascript": [
       "parent.postMessage({\"jupyterEvent\": \"custom.exercise_interaction\", \"data\": {\"interactionType\": 2, \"questionType\": 1, \"questionId\": \"1_LoadData\", \"learnToolsVersion\": \"0.3.4\", \"valueTowardsCompletion\": 0.0, \"failureMessage\": \"\", \"exceptionClass\": \"\", \"trace\": \"\", \"outcomeType\": 4}}, \"*\")"
      ],
      "text/plain": [
       "<IPython.core.display.Javascript object>"
      ]
     },
     "metadata": {},
     "output_type": "display_data"
    },
    {
     "data": {
      "text/markdown": [
       "<span style=\"color:#3366cc\">Hint:</span> Use `pd.read_csv`, and follow it with **two** pieces of text that are enclosed in parentheses and separated by commas.  (1) The filepath for the dataset is provided in `candy_filepath`.  (2) Use the `\"id\"` column to label the rows."
      ],
      "text/plain": [
       "Hint: Use `pd.read_csv`, and follow it with **two** pieces of text that are enclosed in parentheses and separated by commas.  (1) The filepath for the dataset is provided in `candy_filepath`.  (2) Use the `\"id\"` column to label the rows."
      ]
     },
     "metadata": {},
     "output_type": "display_data"
    },
    {
     "data": {
      "application/javascript": [
       "parent.postMessage({\"jupyterEvent\": \"custom.exercise_interaction\", \"data\": {\"interactionType\": 3, \"questionType\": 1, \"questionId\": \"1_LoadData\", \"learnToolsVersion\": \"0.3.4\", \"valueTowardsCompletion\": 0.0, \"failureMessage\": \"\", \"exceptionClass\": \"\", \"trace\": \"\", \"outcomeType\": 4}}, \"*\")"
      ],
      "text/plain": [
       "<IPython.core.display.Javascript object>"
      ]
     },
     "metadata": {},
     "output_type": "display_data"
    },
    {
     "data": {
      "text/markdown": [
       "<span style=\"color:#33cc99\">Solution:</span> \n",
       "```python\n",
       "candy_data = pd.read_csv(candy_filepath, index_col=\"id\")\n",
       "```"
      ],
      "text/plain": [
       "Solution: \n",
       "```python\n",
       "candy_data = pd.read_csv(candy_filepath, index_col=\"id\")\n",
       "```"
      ]
     },
     "metadata": {},
     "output_type": "display_data"
    }
   ],
   "source": [
    "# Lines below will give you a hint or solution code\n",
    "step_1.hint()\n",
    "step_1.solution()"
   ]
  },
  {
   "cell_type": "markdown",
   "id": "c7457d65",
   "metadata": {
    "papermill": {
     "duration": 0.029209,
     "end_time": "2021-11-29T06:24:27.402991",
     "exception": false,
     "start_time": "2021-11-29T06:24:27.373782",
     "status": "completed"
    },
    "tags": []
   },
   "source": [
    "## Step 2: Review the data\n",
    "\n",
    "Use a Python command to print the first five rows of the data."
   ]
  },
  {
   "cell_type": "code",
   "execution_count": 5,
   "id": "5d44b92f",
   "metadata": {
    "execution": {
     "iopub.execute_input": "2021-11-29T06:24:27.478883Z",
     "iopub.status.busy": "2021-11-29T06:24:27.478177Z",
     "iopub.status.idle": "2021-11-29T06:24:27.503547Z",
     "shell.execute_reply": "2021-11-29T06:24:27.502952Z",
     "shell.execute_reply.started": "2021-11-29T05:42:02.425138Z"
    },
    "papermill": {
     "duration": 0.064553,
     "end_time": "2021-11-29T06:24:27.503724",
     "exception": false,
     "start_time": "2021-11-29T06:24:27.439171",
     "status": "completed"
    },
    "tags": []
   },
   "outputs": [
    {
     "data": {
      "text/html": [
       "<div>\n",
       "<style scoped>\n",
       "    .dataframe tbody tr th:only-of-type {\n",
       "        vertical-align: middle;\n",
       "    }\n",
       "\n",
       "    .dataframe tbody tr th {\n",
       "        vertical-align: top;\n",
       "    }\n",
       "\n",
       "    .dataframe thead th {\n",
       "        text-align: right;\n",
       "    }\n",
       "</style>\n",
       "<table border=\"1\" class=\"dataframe\">\n",
       "  <thead>\n",
       "    <tr style=\"text-align: right;\">\n",
       "      <th></th>\n",
       "      <th>competitorname</th>\n",
       "      <th>chocolate</th>\n",
       "      <th>fruity</th>\n",
       "      <th>caramel</th>\n",
       "      <th>peanutyalmondy</th>\n",
       "      <th>nougat</th>\n",
       "      <th>crispedricewafer</th>\n",
       "      <th>hard</th>\n",
       "      <th>bar</th>\n",
       "      <th>pluribus</th>\n",
       "      <th>sugarpercent</th>\n",
       "      <th>pricepercent</th>\n",
       "      <th>winpercent</th>\n",
       "    </tr>\n",
       "    <tr>\n",
       "      <th>id</th>\n",
       "      <th></th>\n",
       "      <th></th>\n",
       "      <th></th>\n",
       "      <th></th>\n",
       "      <th></th>\n",
       "      <th></th>\n",
       "      <th></th>\n",
       "      <th></th>\n",
       "      <th></th>\n",
       "      <th></th>\n",
       "      <th></th>\n",
       "      <th></th>\n",
       "      <th></th>\n",
       "    </tr>\n",
       "  </thead>\n",
       "  <tbody>\n",
       "    <tr>\n",
       "      <th>0</th>\n",
       "      <td>100 Grand</td>\n",
       "      <td>Yes</td>\n",
       "      <td>No</td>\n",
       "      <td>Yes</td>\n",
       "      <td>No</td>\n",
       "      <td>No</td>\n",
       "      <td>Yes</td>\n",
       "      <td>No</td>\n",
       "      <td>Yes</td>\n",
       "      <td>No</td>\n",
       "      <td>0.732</td>\n",
       "      <td>0.860</td>\n",
       "      <td>66.971725</td>\n",
       "    </tr>\n",
       "    <tr>\n",
       "      <th>1</th>\n",
       "      <td>3 Musketeers</td>\n",
       "      <td>Yes</td>\n",
       "      <td>No</td>\n",
       "      <td>No</td>\n",
       "      <td>No</td>\n",
       "      <td>Yes</td>\n",
       "      <td>No</td>\n",
       "      <td>No</td>\n",
       "      <td>Yes</td>\n",
       "      <td>No</td>\n",
       "      <td>0.604</td>\n",
       "      <td>0.511</td>\n",
       "      <td>67.602936</td>\n",
       "    </tr>\n",
       "    <tr>\n",
       "      <th>2</th>\n",
       "      <td>Air Heads</td>\n",
       "      <td>No</td>\n",
       "      <td>Yes</td>\n",
       "      <td>No</td>\n",
       "      <td>No</td>\n",
       "      <td>No</td>\n",
       "      <td>No</td>\n",
       "      <td>No</td>\n",
       "      <td>No</td>\n",
       "      <td>No</td>\n",
       "      <td>0.906</td>\n",
       "      <td>0.511</td>\n",
       "      <td>52.341465</td>\n",
       "    </tr>\n",
       "    <tr>\n",
       "      <th>3</th>\n",
       "      <td>Almond Joy</td>\n",
       "      <td>Yes</td>\n",
       "      <td>No</td>\n",
       "      <td>No</td>\n",
       "      <td>Yes</td>\n",
       "      <td>No</td>\n",
       "      <td>No</td>\n",
       "      <td>No</td>\n",
       "      <td>Yes</td>\n",
       "      <td>No</td>\n",
       "      <td>0.465</td>\n",
       "      <td>0.767</td>\n",
       "      <td>50.347546</td>\n",
       "    </tr>\n",
       "    <tr>\n",
       "      <th>4</th>\n",
       "      <td>Baby Ruth</td>\n",
       "      <td>Yes</td>\n",
       "      <td>No</td>\n",
       "      <td>Yes</td>\n",
       "      <td>Yes</td>\n",
       "      <td>Yes</td>\n",
       "      <td>No</td>\n",
       "      <td>No</td>\n",
       "      <td>Yes</td>\n",
       "      <td>No</td>\n",
       "      <td>0.604</td>\n",
       "      <td>0.767</td>\n",
       "      <td>56.914547</td>\n",
       "    </tr>\n",
       "    <tr>\n",
       "      <th>...</th>\n",
       "      <td>...</td>\n",
       "      <td>...</td>\n",
       "      <td>...</td>\n",
       "      <td>...</td>\n",
       "      <td>...</td>\n",
       "      <td>...</td>\n",
       "      <td>...</td>\n",
       "      <td>...</td>\n",
       "      <td>...</td>\n",
       "      <td>...</td>\n",
       "      <td>...</td>\n",
       "      <td>...</td>\n",
       "      <td>...</td>\n",
       "    </tr>\n",
       "    <tr>\n",
       "      <th>78</th>\n",
       "      <td>Twizzlers</td>\n",
       "      <td>No</td>\n",
       "      <td>Yes</td>\n",
       "      <td>No</td>\n",
       "      <td>No</td>\n",
       "      <td>No</td>\n",
       "      <td>No</td>\n",
       "      <td>No</td>\n",
       "      <td>No</td>\n",
       "      <td>No</td>\n",
       "      <td>0.220</td>\n",
       "      <td>0.116</td>\n",
       "      <td>45.466282</td>\n",
       "    </tr>\n",
       "    <tr>\n",
       "      <th>79</th>\n",
       "      <td>Warheads</td>\n",
       "      <td>No</td>\n",
       "      <td>Yes</td>\n",
       "      <td>No</td>\n",
       "      <td>No</td>\n",
       "      <td>No</td>\n",
       "      <td>No</td>\n",
       "      <td>Yes</td>\n",
       "      <td>No</td>\n",
       "      <td>No</td>\n",
       "      <td>0.093</td>\n",
       "      <td>0.116</td>\n",
       "      <td>39.011898</td>\n",
       "    </tr>\n",
       "    <tr>\n",
       "      <th>80</th>\n",
       "      <td>Welch's Fruit Snacks</td>\n",
       "      <td>No</td>\n",
       "      <td>Yes</td>\n",
       "      <td>No</td>\n",
       "      <td>No</td>\n",
       "      <td>No</td>\n",
       "      <td>No</td>\n",
       "      <td>No</td>\n",
       "      <td>No</td>\n",
       "      <td>Yes</td>\n",
       "      <td>0.313</td>\n",
       "      <td>0.313</td>\n",
       "      <td>44.375519</td>\n",
       "    </tr>\n",
       "    <tr>\n",
       "      <th>81</th>\n",
       "      <td>Werther's Original Caramel</td>\n",
       "      <td>No</td>\n",
       "      <td>No</td>\n",
       "      <td>Yes</td>\n",
       "      <td>No</td>\n",
       "      <td>No</td>\n",
       "      <td>No</td>\n",
       "      <td>Yes</td>\n",
       "      <td>No</td>\n",
       "      <td>No</td>\n",
       "      <td>0.186</td>\n",
       "      <td>0.267</td>\n",
       "      <td>41.904308</td>\n",
       "    </tr>\n",
       "    <tr>\n",
       "      <th>82</th>\n",
       "      <td>Whoppers</td>\n",
       "      <td>Yes</td>\n",
       "      <td>No</td>\n",
       "      <td>No</td>\n",
       "      <td>No</td>\n",
       "      <td>No</td>\n",
       "      <td>Yes</td>\n",
       "      <td>No</td>\n",
       "      <td>No</td>\n",
       "      <td>Yes</td>\n",
       "      <td>0.872</td>\n",
       "      <td>0.848</td>\n",
       "      <td>49.524113</td>\n",
       "    </tr>\n",
       "  </tbody>\n",
       "</table>\n",
       "<p>83 rows × 13 columns</p>\n",
       "</div>"
      ],
      "text/plain": [
       "                competitorname chocolate fruity caramel peanutyalmondy nougat  \\\n",
       "id                                                                              \n",
       "0                    100 Grand       Yes     No     Yes             No     No   \n",
       "1                 3 Musketeers       Yes     No      No             No    Yes   \n",
       "2                    Air Heads        No    Yes      No             No     No   \n",
       "3                   Almond Joy       Yes     No      No            Yes     No   \n",
       "4                    Baby Ruth       Yes     No     Yes            Yes    Yes   \n",
       "..                         ...       ...    ...     ...            ...    ...   \n",
       "78                   Twizzlers        No    Yes      No             No     No   \n",
       "79                    Warheads        No    Yes      No             No     No   \n",
       "80        Welch's Fruit Snacks        No    Yes      No             No     No   \n",
       "81  Werther's Original Caramel        No     No     Yes             No     No   \n",
       "82                    Whoppers       Yes     No      No             No     No   \n",
       "\n",
       "   crispedricewafer hard  bar pluribus  sugarpercent  pricepercent  winpercent  \n",
       "id                                                                              \n",
       "0               Yes   No  Yes       No         0.732         0.860   66.971725  \n",
       "1                No   No  Yes       No         0.604         0.511   67.602936  \n",
       "2                No   No   No       No         0.906         0.511   52.341465  \n",
       "3                No   No  Yes       No         0.465         0.767   50.347546  \n",
       "4                No   No  Yes       No         0.604         0.767   56.914547  \n",
       "..              ...  ...  ...      ...           ...           ...         ...  \n",
       "78               No   No   No       No         0.220         0.116   45.466282  \n",
       "79               No  Yes   No       No         0.093         0.116   39.011898  \n",
       "80               No   No   No      Yes         0.313         0.313   44.375519  \n",
       "81               No  Yes   No       No         0.186         0.267   41.904308  \n",
       "82              Yes   No   No      Yes         0.872         0.848   49.524113  \n",
       "\n",
       "[83 rows x 13 columns]"
      ]
     },
     "execution_count": 5,
     "metadata": {},
     "output_type": "execute_result"
    }
   ],
   "source": [
    "# Print the first five rows of the data\n",
    "candy_data"
   ]
  },
  {
   "cell_type": "markdown",
   "id": "a69b3aae",
   "metadata": {
    "papermill": {
     "duration": 0.025214,
     "end_time": "2021-11-29T06:24:27.556525",
     "exception": false,
     "start_time": "2021-11-29T06:24:27.531311",
     "status": "completed"
    },
    "tags": []
   },
   "source": [
    "The dataset contains 83 rows, where each corresponds to a different candy bar.  There are 13 columns:\n",
    "- `'competitorname'` contains the name of the candy bar. \n",
    "- the next **9** columns (from `'chocolate'` to `'pluribus'`) describe the candy.  For instance, rows with chocolate candies have `\"Yes\"` in the `'chocolate'` column (and candies without chocolate have `\"No\"` in the same column).\n",
    "- `'sugarpercent'` provides some indication of the amount of sugar, where higher values signify higher sugar content.\n",
    "- `'pricepercent'` shows the price per unit, relative to the other candies in the dataset.\n",
    "- `'winpercent'` is calculated from the survey results; higher values indicate that the candy was more popular with survey respondents.\n",
    "\n",
    "Use the first five rows of the data to answer the questions below."
   ]
  },
  {
   "cell_type": "code",
   "execution_count": 6,
   "id": "34781955",
   "metadata": {
    "execution": {
     "iopub.execute_input": "2021-11-29T06:24:27.611559Z",
     "iopub.status.busy": "2021-11-29T06:24:27.610672Z",
     "iopub.status.idle": "2021-11-29T06:24:27.621669Z",
     "shell.execute_reply": "2021-11-29T06:24:27.622091Z",
     "shell.execute_reply.started": "2021-11-29T06:03:18.320352Z"
    },
    "papermill": {
     "duration": 0.04007,
     "end_time": "2021-11-29T06:24:27.622268",
     "exception": false,
     "start_time": "2021-11-29T06:24:27.582198",
     "status": "completed"
    },
    "tags": []
   },
   "outputs": [
    {
     "data": {
      "text/plain": [
       "id\n",
       "1    67.602936\n",
       "Name: winpercent, dtype: float64"
      ]
     },
     "execution_count": 6,
     "metadata": {},
     "output_type": "execute_result"
    }
   ],
   "source": [
    "candy_data[candy_data['competitorname']=='3 Musketeers']['winpercent']"
   ]
  },
  {
   "cell_type": "code",
   "execution_count": 7,
   "id": "f1b9008a",
   "metadata": {
    "execution": {
     "iopub.execute_input": "2021-11-29T06:24:27.681345Z",
     "iopub.status.busy": "2021-11-29T06:24:27.680593Z",
     "iopub.status.idle": "2021-11-29T06:24:27.684073Z",
     "shell.execute_reply": "2021-11-29T06:24:27.683465Z",
     "shell.execute_reply.started": "2021-11-29T06:03:38.779830Z"
    },
    "papermill": {
     "duration": 0.035822,
     "end_time": "2021-11-29T06:24:27.684213",
     "exception": false,
     "start_time": "2021-11-29T06:24:27.648391",
     "status": "completed"
    },
    "tags": []
   },
   "outputs": [
    {
     "data": {
      "text/plain": [
       "id\n",
       "3    50.347546\n",
       "Name: winpercent, dtype: float64"
      ]
     },
     "execution_count": 7,
     "metadata": {},
     "output_type": "execute_result"
    }
   ],
   "source": [
    "candy_data[candy_data['competitorname']=='Almond Joy']['winpercent']"
   ]
  },
  {
   "cell_type": "code",
   "execution_count": 8,
   "id": "e616f26a",
   "metadata": {
    "execution": {
     "iopub.execute_input": "2021-11-29T06:24:27.743659Z",
     "iopub.status.busy": "2021-11-29T06:24:27.743030Z",
     "iopub.status.idle": "2021-11-29T06:24:27.749131Z",
     "shell.execute_reply": "2021-11-29T06:24:27.748595Z",
     "shell.execute_reply.started": "2021-11-29T06:06:22.199808Z"
    },
    "papermill": {
     "duration": 0.038763,
     "end_time": "2021-11-29T06:24:27.749278",
     "exception": false,
     "start_time": "2021-11-29T06:24:27.710515",
     "status": "completed"
    },
    "tags": []
   },
   "outputs": [
    {
     "name": "stdout",
     "output_type": "stream",
     "text": [
      "id\n",
      "2    0.906\n",
      "Name: sugarpercent, dtype: float64\n",
      "id\n",
      "4    0.604\n",
      "Name: sugarpercent, dtype: float64\n"
     ]
    }
   ],
   "source": [
    "print(candy_data[candy_data['competitorname']=='Air Heads']['sugarpercent'])\n",
    "print(candy_data[candy_data['competitorname']=='Baby Ruth']['sugarpercent'])"
   ]
  },
  {
   "cell_type": "code",
   "execution_count": 9,
   "id": "d810c757",
   "metadata": {
    "execution": {
     "iopub.execute_input": "2021-11-29T06:24:27.805644Z",
     "iopub.status.busy": "2021-11-29T06:24:27.804710Z",
     "iopub.status.idle": "2021-11-29T06:24:27.812097Z",
     "shell.execute_reply": "2021-11-29T06:24:27.812581Z",
     "shell.execute_reply.started": "2021-11-29T06:06:36.129350Z"
    },
    "papermill": {
     "duration": 0.03677,
     "end_time": "2021-11-29T06:24:27.812759",
     "exception": false,
     "start_time": "2021-11-29T06:24:27.775989",
     "status": "completed"
    },
    "tags": []
   },
   "outputs": [
    {
     "data": {
      "application/javascript": [
       "parent.postMessage({\"jupyterEvent\": \"custom.exercise_interaction\", \"data\": {\"outcomeType\": 1, \"valueTowardsCompletion\": 0.3333333333333333, \"interactionType\": 1, \"questionType\": 1, \"questionId\": \"2_ReviewData\", \"learnToolsVersion\": \"0.3.4\", \"failureMessage\": \"\", \"exceptionClass\": \"\", \"trace\": \"\"}}, \"*\")"
      ],
      "text/plain": [
       "<IPython.core.display.Javascript object>"
      ]
     },
     "metadata": {},
     "output_type": "display_data"
    },
    {
     "data": {
      "text/markdown": [
       "<span style=\"color:#33cc33\">Correct</span>"
      ],
      "text/plain": [
       "Correct"
      ]
     },
     "metadata": {},
     "output_type": "display_data"
    }
   ],
   "source": [
    "# Fill in the line below: Which candy was more popular with survey respondents:\n",
    "# '3 Musketeers' or 'Almond Joy'?  (Please enclose your answer in single quotes.)\n",
    "more_popular = '3 Musketeers'\n",
    "\n",
    "# Fill in the line below: Which candy has higher sugar content: 'Air Heads'\n",
    "# or 'Baby Ruth'? (Please enclose your answer in single quotes.)\n",
    "more_sugar = 'Air Heads'\n",
    "\n",
    "# Check your answers\n",
    "step_2.check()"
   ]
  },
  {
   "cell_type": "code",
   "execution_count": 10,
   "id": "b7e2d625",
   "metadata": {
    "execution": {
     "iopub.execute_input": "2021-11-29T06:24:27.870853Z",
     "iopub.status.busy": "2021-11-29T06:24:27.869920Z",
     "iopub.status.idle": "2021-11-29T06:24:27.880388Z",
     "shell.execute_reply": "2021-11-29T06:24:27.881077Z",
     "shell.execute_reply.started": "2021-11-29T06:06:40.049557Z"
    },
    "papermill": {
     "duration": 0.041163,
     "end_time": "2021-11-29T06:24:27.881255",
     "exception": false,
     "start_time": "2021-11-29T06:24:27.840092",
     "status": "completed"
    },
    "tags": []
   },
   "outputs": [
    {
     "data": {
      "application/javascript": [
       "parent.postMessage({\"jupyterEvent\": \"custom.exercise_interaction\", \"data\": {\"interactionType\": 2, \"questionType\": 1, \"questionId\": \"2_ReviewData\", \"learnToolsVersion\": \"0.3.4\", \"valueTowardsCompletion\": 0.0, \"failureMessage\": \"\", \"exceptionClass\": \"\", \"trace\": \"\", \"outcomeType\": 4}}, \"*\")"
      ],
      "text/plain": [
       "<IPython.core.display.Javascript object>"
      ]
     },
     "metadata": {},
     "output_type": "display_data"
    },
    {
     "data": {
      "text/markdown": [
       "<span style=\"color:#3366cc\">Hint:</span> Use the `head()` command to print the first 5 rows. **After printing the first 5 rows**, each row corresponds to a different candy. The `'winpercent'` column indicates the popularity of the candy. The `'sugarpercent'` column has the amount of sugar in the candy."
      ],
      "text/plain": [
       "Hint: Use the `head()` command to print the first 5 rows. **After printing the first 5 rows**, each row corresponds to a different candy. The `'winpercent'` column indicates the popularity of the candy. The `'sugarpercent'` column has the amount of sugar in the candy."
      ]
     },
     "metadata": {},
     "output_type": "display_data"
    },
    {
     "data": {
      "application/javascript": [
       "parent.postMessage({\"jupyterEvent\": \"custom.exercise_interaction\", \"data\": {\"interactionType\": 3, \"questionType\": 1, \"questionId\": \"2_ReviewData\", \"learnToolsVersion\": \"0.3.4\", \"valueTowardsCompletion\": 0.0, \"failureMessage\": \"\", \"exceptionClass\": \"\", \"trace\": \"\", \"outcomeType\": 4}}, \"*\")"
      ],
      "text/plain": [
       "<IPython.core.display.Javascript object>"
      ]
     },
     "metadata": {},
     "output_type": "display_data"
    },
    {
     "data": {
      "text/markdown": [
       "<span style=\"color:#33cc99\">Solution:</span> \n",
       "```python\n",
       "# Print the first five rows of the data\n",
       "candy_data.head()\n",
       "# Which candy was more popular with survey respondents:\n",
       "# '3 Musketeers' or 'Almond Joy'?\n",
       "more_popular = '3 Musketeers'\n",
       "# Which candy has higher sugar content: 'Air Heads'\n",
       "# or 'Baby Ruth'?\n",
       "more_sugar = 'Air Heads'\n",
       "\n",
       "```"
      ],
      "text/plain": [
       "Solution: \n",
       "```python\n",
       "# Print the first five rows of the data\n",
       "candy_data.head()\n",
       "# Which candy was more popular with survey respondents:\n",
       "# '3 Musketeers' or 'Almond Joy'?\n",
       "more_popular = '3 Musketeers'\n",
       "# Which candy has higher sugar content: 'Air Heads'\n",
       "# or 'Baby Ruth'?\n",
       "more_sugar = 'Air Heads'\n",
       "\n",
       "```"
      ]
     },
     "metadata": {},
     "output_type": "display_data"
    }
   ],
   "source": [
    "# Lines below will give you a hint or solution code\n",
    "step_2.hint()\n",
    "step_2.solution()"
   ]
  },
  {
   "cell_type": "markdown",
   "id": "25c64c46",
   "metadata": {
    "papermill": {
     "duration": 0.028104,
     "end_time": "2021-11-29T06:24:27.937700",
     "exception": false,
     "start_time": "2021-11-29T06:24:27.909596",
     "status": "completed"
    },
    "tags": []
   },
   "source": [
    "## Step 3: The role of sugar\n",
    "\n",
    "Do people tend to prefer candies with higher sugar content?  \n",
    "\n",
    "#### Part A\n",
    "\n",
    "Create a scatter plot that shows the relationship between `'sugarpercent'` (on the horizontal x-axis) and `'winpercent'` (on the vertical y-axis).  _Don't add a regression line just yet -- you'll do that in the next step!_"
   ]
  },
  {
   "cell_type": "code",
   "execution_count": 11,
   "id": "3861a2b9",
   "metadata": {
    "execution": {
     "iopub.execute_input": "2021-11-29T06:24:28.001037Z",
     "iopub.status.busy": "2021-11-29T06:24:28.000034Z",
     "iopub.status.idle": "2021-11-29T06:24:28.217749Z",
     "shell.execute_reply": "2021-11-29T06:24:28.217212Z",
     "shell.execute_reply.started": "2021-11-29T06:10:47.529512Z"
    },
    "papermill": {
     "duration": 0.250658,
     "end_time": "2021-11-29T06:24:28.217901",
     "exception": false,
     "start_time": "2021-11-29T06:24:27.967243",
     "status": "completed"
    },
    "tags": []
   },
   "outputs": [
    {
     "data": {
      "application/javascript": [
       "parent.postMessage({\"jupyterEvent\": \"custom.exercise_interaction\", \"data\": {\"outcomeType\": 1, \"valueTowardsCompletion\": 0.3333333333333333, \"interactionType\": 1, \"questionType\": 2, \"questionId\": \"3.1_PlotBlueScatter\", \"learnToolsVersion\": \"0.3.4\", \"failureMessage\": \"\", \"exceptionClass\": \"\", \"trace\": \"\"}}, \"*\")"
      ],
      "text/plain": [
       "<IPython.core.display.Javascript object>"
      ]
     },
     "metadata": {},
     "output_type": "display_data"
    },
    {
     "data": {
      "text/markdown": [
       "<span style=\"color:#33cc33\">Correct</span>"
      ],
      "text/plain": [
       "Correct"
      ]
     },
     "metadata": {},
     "output_type": "display_data"
    },
    {
     "data": {
      "image/png": "[encoded data removed]",
      "text/plain": [
       "<Figure size 432x288 with 1 Axes>"
      ]
     },
     "metadata": {
      "needs_background": "light"
     },
     "output_type": "display_data"
    }
   ],
   "source": [
    "# Scatter plot showing the relationship between 'sugarpercent' and 'winpercent'\n",
    "sns.scatterplot(candy_data['sugarpercent'],candy_data['winpercent'])\n",
    "# Check your answer\n",
    "step_3.a.check()"
   ]
  },
  {
   "cell_type": "code",
   "execution_count": 12,
   "id": "46cdad60",
   "metadata": {
    "execution": {
     "iopub.execute_input": "2021-11-29T06:24:28.283232Z",
     "iopub.status.busy": "2021-11-29T06:24:28.282577Z",
     "iopub.status.idle": "2021-11-29T06:24:28.284995Z",
     "shell.execute_reply": "2021-11-29T06:24:28.285441Z",
     "shell.execute_reply.started": "2021-11-29T06:10:55.464868Z"
    },
    "papermill": {
     "duration": 0.036746,
     "end_time": "2021-11-29T06:24:28.285600",
     "exception": false,
     "start_time": "2021-11-29T06:24:28.248854",
     "status": "completed"
    },
    "tags": []
   },
   "outputs": [],
   "source": [
    "# Lines below will give you a hint or solution code\n",
    "#step_3.a.hint()\n",
    "#step_3.a.solution_plot()"
   ]
  },
  {
   "cell_type": "markdown",
   "id": "95d3c92c",
   "metadata": {
    "papermill": {
     "duration": 0.030602,
     "end_time": "2021-11-29T06:24:28.346056",
     "exception": false,
     "start_time": "2021-11-29T06:24:28.315454",
     "status": "completed"
    },
    "tags": []
   },
   "source": [
    "#### Part B\n",
    "\n",
    "Does the scatter plot show a **strong** correlation between the two variables?  If so, are candies with more sugar relatively more or less popular with the survey respondents?"
   ]
  },
  {
   "cell_type": "code",
   "execution_count": 13,
   "id": "c43b3103",
   "metadata": {
    "execution": {
     "iopub.execute_input": "2021-11-29T06:24:28.409330Z",
     "iopub.status.busy": "2021-11-29T06:24:28.408724Z",
     "iopub.status.idle": "2021-11-29T06:24:28.414603Z",
     "shell.execute_reply": "2021-11-29T06:24:28.415095Z"
    },
    "papermill": {
     "duration": 0.03897,
     "end_time": "2021-11-29T06:24:28.415261",
     "exception": false,
     "start_time": "2021-11-29T06:24:28.376291",
     "status": "completed"
    },
    "tags": []
   },
   "outputs": [
    {
     "data": {
      "application/javascript": [
       "parent.postMessage({\"jupyterEvent\": \"custom.exercise_interaction\", \"data\": {\"interactionType\": 2, \"questionType\": 4, \"questionId\": \"3.2_ThinkBlueScatter\", \"learnToolsVersion\": \"0.3.4\", \"valueTowardsCompletion\": 0.0, \"failureMessage\": \"\", \"exceptionClass\": \"\", \"trace\": \"\", \"outcomeType\": 4}}, \"*\")"
      ],
      "text/plain": [
       "<IPython.core.display.Javascript object>"
      ]
     },
     "metadata": {},
     "output_type": "display_data"
    },
    {
     "data": {
      "text/markdown": [
       "<span style=\"color:#3366cc\">Hint:</span> Compare candies with higher sugar content (on the right side of the chart) to candies with lower sugar content (on the left side of the chart). Is one group clearly more popular than the other?"
      ],
      "text/plain": [
       "Hint: Compare candies with higher sugar content (on the right side of the chart) to candies with lower sugar content (on the left side of the chart). Is one group clearly more popular than the other?"
      ]
     },
     "metadata": {},
     "output_type": "display_data"
    }
   ],
   "source": [
    "\n",
    "step_3.b.hint()"
   ]
  },
  {
   "cell_type": "code",
   "execution_count": 14,
   "id": "92fc090c",
   "metadata": {
    "execution": {
     "iopub.execute_input": "2021-11-29T06:24:28.482893Z",
     "iopub.status.busy": "2021-11-29T06:24:28.481942Z",
     "iopub.status.idle": "2021-11-29T06:24:28.487590Z",
     "shell.execute_reply": "2021-11-29T06:24:28.487020Z",
     "shell.execute_reply.started": "2021-11-29T06:11:03.609635Z"
    },
    "papermill": {
     "duration": 0.041625,
     "end_time": "2021-11-29T06:24:28.487760",
     "exception": false,
     "start_time": "2021-11-29T06:24:28.446135",
     "status": "completed"
    },
    "tags": []
   },
   "outputs": [
    {
     "data": {
      "application/javascript": [
       "parent.postMessage({\"jupyterEvent\": \"custom.exercise_interaction\", \"data\": {\"interactionType\": 3, \"questionType\": 4, \"questionId\": \"3.2_ThinkBlueScatter\", \"learnToolsVersion\": \"0.3.4\", \"valueTowardsCompletion\": 0.0, \"failureMessage\": \"\", \"exceptionClass\": \"\", \"trace\": \"\", \"outcomeType\": 4}}, \"*\")"
      ],
      "text/plain": [
       "<IPython.core.display.Javascript object>"
      ]
     },
     "metadata": {},
     "output_type": "display_data"
    },
    {
     "data": {
      "text/markdown": [
       "<span style=\"color:#33cc99\">Solution:</span> The scatter plot does not show a strong correlation between the two variables. Since there is no clear relationship between the two variables, this tells us that sugar content does not play a strong role in candy popularity."
      ],
      "text/plain": [
       "Solution: The scatter plot does not show a strong correlation between the two variables. Since there is no clear relationship between the two variables, this tells us that sugar content does not play a strong role in candy popularity."
      ]
     },
     "metadata": {},
     "output_type": "display_data"
    }
   ],
   "source": [
    "# Check your answer (Run this code cell to receive credit!)\n",
    "step_3.b.solution()"
   ]
  },
  {
   "cell_type": "markdown",
   "id": "ba2e519d",
   "metadata": {
    "papermill": {
     "duration": 0.031273,
     "end_time": "2021-11-29T06:24:28.608071",
     "exception": false,
     "start_time": "2021-11-29T06:24:28.576798",
     "status": "completed"
    },
    "tags": []
   },
   "source": [
    "## Step 4: Take a closer look\n",
    "\n",
    "#### Part A\n",
    "\n",
    "Create the same scatter plot you created in **Step 3**, but now with a regression line!"
   ]
  },
  {
   "cell_type": "code",
   "execution_count": 15,
   "id": "6bdb946c",
   "metadata": {
    "execution": {
     "iopub.execute_input": "2021-11-29T06:24:28.675362Z",
     "iopub.status.busy": "2021-11-29T06:24:28.674419Z",
     "iopub.status.idle": "2021-11-29T06:24:29.108907Z",
     "shell.execute_reply": "2021-11-29T06:24:29.109391Z",
     "shell.execute_reply.started": "2021-11-29T06:15:23.770658Z"
    },
    "papermill": {
     "duration": 0.469977,
     "end_time": "2021-11-29T06:24:29.109561",
     "exception": false,
     "start_time": "2021-11-29T06:24:28.639584",
     "status": "completed"
    },
    "tags": []
   },
   "outputs": [
    {
     "data": {
      "application/javascript": [
       "parent.postMessage({\"jupyterEvent\": \"custom.exercise_interaction\", \"data\": {\"outcomeType\": 1, \"valueTowardsCompletion\": 0.3333333333333333, \"interactionType\": 1, \"questionType\": 2, \"questionId\": \"4.1_PlotBlueReg\", \"learnToolsVersion\": \"0.3.4\", \"failureMessage\": \"\", \"exceptionClass\": \"\", \"trace\": \"\"}}, \"*\")"
      ],
      "text/plain": [
       "<IPython.core.display.Javascript object>"
      ]
     },
     "metadata": {},
     "output_type": "display_data"
    },
    {
     "data": {
      "text/markdown": [
       "<span style=\"color:#33cc33\">Correct</span>"
      ],
      "text/plain": [
       "Correct"
      ]
     },
     "metadata": {},
     "output_type": "display_data"
    },
    {
     "data": {
      "image/png": "[encoded data removed]",
      "text/plain": [
       "<Figure size 360x360 with 1 Axes>"
      ]
     },
     "metadata": {
      "needs_background": "light"
     },
     "output_type": "display_data"
    }
   ],
   "source": [
    "# Scatter plot w/ regression line showing the relationship between 'sugarpercent' and 'winpercent'\n",
    "____ # Your code here\n",
    "sns.lmplot(x='sugarpercent',y='winpercent',data=candy_data)\n",
    "\n",
    "# Check your answer\n",
    "step_4.a.check()"
   ]
  },
  {
   "cell_type": "code",
   "execution_count": 16,
   "id": "d0bb0d69",
   "metadata": {
    "execution": {
     "iopub.execute_input": "2021-11-29T06:24:29.181494Z",
     "iopub.status.busy": "2021-11-29T06:24:29.180571Z",
     "iopub.status.idle": "2021-11-29T06:24:29.183014Z",
     "shell.execute_reply": "2021-11-29T06:24:29.183433Z"
    },
    "papermill": {
     "duration": 0.040839,
     "end_time": "2021-11-29T06:24:29.183605",
     "exception": false,
     "start_time": "2021-11-29T06:24:29.142766",
     "status": "completed"
    },
    "tags": []
   },
   "outputs": [],
   "source": [
    "# Lines below will give you a hint or solution code\n",
    "#step_4.a.hint()\n",
    "#step_4.a.solution_plot()"
   ]
  },
  {
   "cell_type": "markdown",
   "id": "83d90fb7",
   "metadata": {
    "papermill": {
     "duration": 0.033241,
     "end_time": "2021-11-29T06:24:29.250332",
     "exception": false,
     "start_time": "2021-11-29T06:24:29.217091",
     "status": "completed"
    },
    "tags": []
   },
   "source": [
    "#### Part B\n",
    "\n",
    "According to the plot above, is there a **slight** correlation between `'winpercent'` and `'sugarpercent'`?  What does this tell you about the candy that people tend to prefer?"
   ]
  },
  {
   "cell_type": "code",
   "execution_count": 17,
   "id": "0e3b7ada",
   "metadata": {
    "execution": {
     "iopub.execute_input": "2021-11-29T06:24:29.320579Z",
     "iopub.status.busy": "2021-11-29T06:24:29.319510Z",
     "iopub.status.idle": "2021-11-29T06:24:29.323003Z",
     "shell.execute_reply": "2021-11-29T06:24:29.322456Z"
    },
    "papermill": {
     "duration": 0.039453,
     "end_time": "2021-11-29T06:24:29.323140",
     "exception": false,
     "start_time": "2021-11-29T06:24:29.283687",
     "status": "completed"
    },
    "tags": []
   },
   "outputs": [],
   "source": [
    "#step_4.b.hint()"
   ]
  },
  {
   "cell_type": "code",
   "execution_count": 18,
   "id": "0b04c91a",
   "metadata": {
    "execution": {
     "iopub.execute_input": "2021-11-29T06:24:29.393102Z",
     "iopub.status.busy": "2021-11-29T06:24:29.392481Z",
     "iopub.status.idle": "2021-11-29T06:24:29.399522Z",
     "shell.execute_reply": "2021-11-29T06:24:29.399059Z",
     "shell.execute_reply.started": "2021-11-29T06:20:12.910391Z"
    },
    "papermill": {
     "duration": 0.042957,
     "end_time": "2021-11-29T06:24:29.399696",
     "exception": false,
     "start_time": "2021-11-29T06:24:29.356739",
     "status": "completed"
    },
    "tags": []
   },
   "outputs": [
    {
     "data": {
      "application/javascript": [
       "parent.postMessage({\"jupyterEvent\": \"custom.exercise_interaction\", \"data\": {\"interactionType\": 3, \"questionType\": 4, \"questionId\": \"4.2_ThinkBlueReg\", \"learnToolsVersion\": \"0.3.4\", \"valueTowardsCompletion\": 0.0, \"failureMessage\": \"\", \"exceptionClass\": \"\", \"trace\": \"\", \"outcomeType\": 4}}, \"*\")"
      ],
      "text/plain": [
       "<IPython.core.display.Javascript object>"
      ]
     },
     "metadata": {},
     "output_type": "display_data"
    },
    {
     "data": {
      "text/markdown": [
       "<span style=\"color:#33cc99\">Solution:</span> Since the regression line has a slightly positive slope, this tells us that there is a slightly positive correlation between `'winpercent'` and `'sugarpercent'`. Thus, people have a slight preference for candies containing relatively more sugar."
      ],
      "text/plain": [
       "Solution: Since the regression line has a slightly positive slope, this tells us that there is a slightly positive correlation between `'winpercent'` and `'sugarpercent'`. Thus, people have a slight preference for candies containing relatively more sugar."
      ]
     },
     "metadata": {},
     "output_type": "display_data"
    }
   ],
   "source": [
    "# Check your answer (Run this code cell to receive credit!)\n",
    "step_4.b.solution()"
   ]
  },
  {
   "cell_type": "markdown",
   "id": "9eeb87dc",
   "metadata": {
    "papermill": {
     "duration": 0.033952,
     "end_time": "2021-11-29T06:24:29.468713",
     "exception": false,
     "start_time": "2021-11-29T06:24:29.434761",
     "status": "completed"
    },
    "tags": []
   },
   "source": [
    "## Step 5: Chocolate!\n",
    "\n",
    "In the code cell below, create a scatter plot to show the relationship between `'pricepercent'` (on the horizontal x-axis) and `'winpercent'` (on the vertical y-axis). Use the `'chocolate'` column to color-code the points.  _Don't add any regression lines just yet -- you'll do that in the next step!_"
   ]
  },
  {
   "cell_type": "code",
   "execution_count": 19,
   "id": "66567ff5",
   "metadata": {
    "execution": {
     "iopub.execute_input": "2021-11-29T06:24:29.582605Z",
     "iopub.status.busy": "2021-11-29T06:24:29.569059Z",
     "iopub.status.idle": "2021-11-29T06:24:29.790776Z",
     "shell.execute_reply": "2021-11-29T06:24:29.791199Z",
     "shell.execute_reply.started": "2021-11-29T06:20:58.159527Z"
    },
    "papermill": {
     "duration": 0.287543,
     "end_time": "2021-11-29T06:24:29.791370",
     "exception": false,
     "start_time": "2021-11-29T06:24:29.503827",
     "status": "completed"
    },
    "tags": []
   },
   "outputs": [
    {
     "data": {
      "application/javascript": [
       "parent.postMessage({\"jupyterEvent\": \"custom.exercise_interaction\", \"data\": {\"outcomeType\": 1, \"valueTowardsCompletion\": 0.3333333333333333, \"interactionType\": 1, \"questionType\": 2, \"questionId\": \"5_ColorScatter\", \"learnToolsVersion\": \"0.3.4\", \"failureMessage\": \"\", \"exceptionClass\": \"\", \"trace\": \"\"}}, \"*\")"
      ],
      "text/plain": [
       "<IPython.core.display.Javascript object>"
      ]
     },
     "metadata": {},
     "output_type": "display_data"
    },
    {
     "data": {
      "text/markdown": [
       "<span style=\"color:#33cc33\">Correct</span>"
      ],
      "text/plain": [
       "Correct"
      ]
     },
     "metadata": {},
     "output_type": "display_data"
    },
    {
     "data": {
      "image/png": "[encoded data removed]",
      "text/plain": [
       "<Figure size 432x288 with 1 Axes>"
      ]
     },
     "metadata": {
      "needs_background": "light"
     },
     "output_type": "display_data"
    }
   ],
   "source": [
    "# Scatter plot showing the relationship between 'pricepercent', 'winpercent', and 'chocolate'\n",
    "sns.scatterplot(candy_data['pricepercent'],candy_data['winpercent'],hue=candy_data['chocolate'])\n",
    "\n",
    "# Check your answer\n",
    "step_5.check()"
   ]
  },
  {
   "cell_type": "code",
   "execution_count": 20,
   "id": "365dbd68",
   "metadata": {
    "execution": {
     "iopub.execute_input": "2021-11-29T06:24:29.867069Z",
     "iopub.status.busy": "2021-11-29T06:24:29.866064Z",
     "iopub.status.idle": "2021-11-29T06:24:29.869376Z",
     "shell.execute_reply": "2021-11-29T06:24:29.869959Z"
    },
    "papermill": {
     "duration": 0.042633,
     "end_time": "2021-11-29T06:24:29.870166",
     "exception": false,
     "start_time": "2021-11-29T06:24:29.827533",
     "status": "completed"
    },
    "tags": []
   },
   "outputs": [],
   "source": [
    "# Lines below will give you a hint or solution code\n",
    "#step_5.hint()\n",
    "#step_5.solution_plot()"
   ]
  },
  {
   "cell_type": "markdown",
   "id": "833ea997",
   "metadata": {
    "papermill": {
     "duration": 0.036641,
     "end_time": "2021-11-29T06:24:29.942817",
     "exception": false,
     "start_time": "2021-11-29T06:24:29.906176",
     "status": "completed"
    },
    "tags": []
   },
   "source": [
    "Can you see any interesting patterns in the scatter plot?  We'll investigate this plot further  by adding regression lines in the next step!\n",
    "\n",
    "## Step 6: Investigate chocolate\n",
    "\n",
    "#### Part A\n",
    "\n",
    "Create the same scatter plot you created in **Step 5**, but now with two regression lines, corresponding to (1) chocolate candies and (2) candies without chocolate."
   ]
  },
  {
   "cell_type": "code",
   "execution_count": 21,
   "id": "aafe8eb4",
   "metadata": {
    "execution": {
     "iopub.execute_input": "2021-11-29T06:24:30.017512Z",
     "iopub.status.busy": "2021-11-29T06:24:30.016919Z",
     "iopub.status.idle": "2021-11-29T06:24:30.259876Z",
     "shell.execute_reply": "2021-11-29T06:24:30.260331Z",
     "shell.execute_reply.started": "2021-11-29T06:22:37.429198Z"
    },
    "papermill": {
     "duration": 0.281846,
     "end_time": "2021-11-29T06:24:30.260495",
     "exception": false,
     "start_time": "2021-11-29T06:24:29.978649",
     "status": "completed"
    },
    "tags": []
   },
   "outputs": [
    {
     "data": {
      "application/javascript": [
       "parent.postMessage({\"jupyterEvent\": \"custom.exercise_interaction\", \"data\": {\"outcomeType\": 1, \"valueTowardsCompletion\": 0.3333333333333333, \"interactionType\": 1, \"questionType\": 2, \"questionId\": \"6.1_PlotColorReg\", \"learnToolsVersion\": \"0.3.4\", \"failureMessage\": \"\", \"exceptionClass\": \"\", \"trace\": \"\"}}, \"*\")"
      ],
      "text/plain": [
       "<IPython.core.display.Javascript object>"
      ]
     },
     "metadata": {},
     "output_type": "display_data"
    },
    {
     "data": {
      "text/markdown": [
       "<span style=\"color:#33cc33\">Correct</span>"
      ],
      "text/plain": [
       "Correct"
      ]
     },
     "metadata": {},
     "output_type": "display_data"
    },
    {
     "data": {
      "image/png": "[encoded data removed]",
      "text/plain": [
       "<Figure size 432x288 with 1 Axes>"
      ]
     },
     "metadata": {
      "needs_background": "light"
     },
     "output_type": "display_data"
    }
   ],
   "source": [
    "# Color-coded scatter plot w/ regression lines\n",
    "sns.scatterplot(x='pricepercent',y='winpercent',hue='chocolate',data=candy_data)\n",
    "\n",
    "# Check your answer\n",
    "step_6.a.check()"
   ]
  },
  {
   "cell_type": "code",
   "execution_count": 22,
   "id": "5514c808",
   "metadata": {
    "execution": {
     "iopub.execute_input": "2021-11-29T06:24:30.339009Z",
     "iopub.status.busy": "2021-11-29T06:24:30.338211Z",
     "iopub.status.idle": "2021-11-29T06:24:30.341049Z",
     "shell.execute_reply": "2021-11-29T06:24:30.341575Z"
    },
    "papermill": {
     "duration": 0.043962,
     "end_time": "2021-11-29T06:24:30.341754",
     "exception": false,
     "start_time": "2021-11-29T06:24:30.297792",
     "status": "completed"
    },
    "tags": []
   },
   "outputs": [],
   "source": [
    "# Lines below will give you a hint or solution code\n",
    "#step_6.a.hint()\n",
    "#step_6.a.solution_plot()"
   ]
  },
  {
   "cell_type": "markdown",
   "id": "f2a90800",
   "metadata": {
    "papermill": {
     "duration": 0.037195,
     "end_time": "2021-11-29T06:24:30.416388",
     "exception": false,
     "start_time": "2021-11-29T06:24:30.379193",
     "status": "completed"
    },
    "tags": []
   },
   "source": [
    "#### Part B\n",
    "\n",
    "Using the regression lines, what conclusions can you draw about the effects of chocolate and price on candy popularity?"
   ]
  },
  {
   "cell_type": "code",
   "execution_count": 23,
   "id": "56e71de0",
   "metadata": {
    "execution": {
     "iopub.execute_input": "2021-11-29T06:24:30.497790Z",
     "iopub.status.busy": "2021-11-29T06:24:30.496784Z",
     "iopub.status.idle": "2021-11-29T06:24:30.501792Z",
     "shell.execute_reply": "2021-11-29T06:24:30.502252Z",
     "shell.execute_reply.started": "2021-11-29T06:22:43.129979Z"
    },
    "papermill": {
     "duration": 0.048528,
     "end_time": "2021-11-29T06:24:30.502416",
     "exception": false,
     "start_time": "2021-11-29T06:24:30.453888",
     "status": "completed"
    },
    "tags": []
   },
   "outputs": [
    {
     "data": {
      "application/javascript": [
       "parent.postMessage({\"jupyterEvent\": \"custom.exercise_interaction\", \"data\": {\"interactionType\": 2, \"questionType\": 4, \"questionId\": \"6.2_ThinkColorReg\", \"learnToolsVersion\": \"0.3.4\", \"valueTowardsCompletion\": 0.0, \"failureMessage\": \"\", \"exceptionClass\": \"\", \"trace\": \"\", \"outcomeType\": 4}}, \"*\")"
      ],
      "text/plain": [
       "<IPython.core.display.Javascript object>"
      ]
     },
     "metadata": {},
     "output_type": "display_data"
    },
    {
     "data": {
      "text/markdown": [
       "<span style=\"color:#3366cc\">Hint:</span> Look at each regression line - do you notice a positive or negative slope?"
      ],
      "text/plain": [
       "Hint: Look at each regression line - do you notice a positive or negative slope?"
      ]
     },
     "metadata": {},
     "output_type": "display_data"
    }
   ],
   "source": [
    "step_6.b.hint()"
   ]
  },
  {
   "cell_type": "code",
   "execution_count": 24,
   "id": "12499ad6",
   "metadata": {
    "execution": {
     "iopub.execute_input": "2021-11-29T06:24:30.583076Z",
     "iopub.status.busy": "2021-11-29T06:24:30.582395Z",
     "iopub.status.idle": "2021-11-29T06:24:30.588045Z",
     "shell.execute_reply": "2021-11-29T06:24:30.588581Z",
     "shell.execute_reply.started": "2021-11-29T06:22:46.529491Z"
    },
    "papermill": {
     "duration": 0.048147,
     "end_time": "2021-11-29T06:24:30.588787",
     "exception": false,
     "start_time": "2021-11-29T06:24:30.540640",
     "status": "completed"
    },
    "tags": []
   },
   "outputs": [
    {
     "data": {
      "application/javascript": [
       "parent.postMessage({\"jupyterEvent\": \"custom.exercise_interaction\", \"data\": {\"interactionType\": 3, \"questionType\": 4, \"questionId\": \"6.2_ThinkColorReg\", \"learnToolsVersion\": \"0.3.4\", \"valueTowardsCompletion\": 0.0, \"failureMessage\": \"\", \"exceptionClass\": \"\", \"trace\": \"\", \"outcomeType\": 4}}, \"*\")"
      ],
      "text/plain": [
       "<IPython.core.display.Javascript object>"
      ]
     },
     "metadata": {},
     "output_type": "display_data"
    },
    {
     "data": {
      "text/markdown": [
       "<span style=\"color:#33cc99\">Solution:</span> We'll begin with the regression line for chocolate candies. Since this line has a slightly positive slope, we can say that more expensive chocolate candies tend to be more popular (than relatively cheaper chocolate candies).  Likewise, since the regression line for candies without chocolate has a negative slope, we can say that if candies don't contain chocolate, they tend to be more popular when they are cheaper.  One important note, however, is that the dataset is quite small -- so we shouldn't invest too much trust in these patterns!  To inspire more confidence in the results, we should add more candies to the dataset."
      ],
      "text/plain": [
       "Solution: We'll begin with the regression line for chocolate candies. Since this line has a slightly positive slope, we can say that more expensive chocolate candies tend to be more popular (than relatively cheaper chocolate candies).  Likewise, since the regression line for candies without chocolate has a negative slope, we can say that if candies don't contain chocolate, they tend to be more popular when they are cheaper.  One important note, however, is that the dataset is quite small -- so we shouldn't invest too much trust in these patterns!  To inspire more confidence in the results, we should add more candies to the dataset."
      ]
     },
     "metadata": {},
     "output_type": "display_data"
    }
   ],
   "source": [
    "# Check your answer (Run this code cell to receive credit!)\n",
    "step_6.b.solution()"
   ]
  },
  {
   "cell_type": "markdown",
   "id": "5c79bbcb",
   "metadata": {
    "papermill": {
     "duration": 0.039362,
     "end_time": "2021-11-29T06:24:30.667371",
     "exception": false,
     "start_time": "2021-11-29T06:24:30.628009",
     "status": "completed"
    },
    "tags": []
   },
   "source": [
    "## Step 7: Everybody loves chocolate.\n",
    "\n",
    "#### Part A\n",
    "\n",
    "Create a categorical scatter plot to highlight the relationship between `'chocolate'` and `'winpercent'`.  Put `'chocolate'` on the (horizontal) x-axis, and `'winpercent'` on the (vertical) y-axis."
   ]
  },
  {
   "cell_type": "code",
   "execution_count": 25,
   "id": "fb80d004",
   "metadata": {
    "execution": {
     "iopub.execute_input": "2021-11-29T06:24:30.750123Z",
     "iopub.status.busy": "2021-11-29T06:24:30.749435Z",
     "iopub.status.idle": "2021-11-29T06:24:30.972470Z",
     "shell.execute_reply": "2021-11-29T06:24:30.971848Z",
     "shell.execute_reply.started": "2021-11-29T06:23:54.190213Z"
    },
    "papermill": {
     "duration": 0.26581,
     "end_time": "2021-11-29T06:24:30.972626",
     "exception": false,
     "start_time": "2021-11-29T06:24:30.706816",
     "status": "completed"
    },
    "tags": []
   },
   "outputs": [
    {
     "data": {
      "application/javascript": [
       "parent.postMessage({\"jupyterEvent\": \"custom.exercise_interaction\", \"data\": {\"outcomeType\": 1, \"valueTowardsCompletion\": 0.3333333333333333, \"interactionType\": 1, \"questionType\": 2, \"questionId\": \"7.1_PlotSwarm\", \"learnToolsVersion\": \"0.3.4\", \"failureMessage\": \"\", \"exceptionClass\": \"\", \"trace\": \"\"}}, \"*\")"
      ],
      "text/plain": [
       "<IPython.core.display.Javascript object>"
      ]
     },
     "metadata": {},
     "output_type": "display_data"
    },
    {
     "data": {
      "text/markdown": [
       "<span style=\"color:#33cc33\">Correct</span>"
      ],
      "text/plain": [
       "Correct"
      ]
     },
     "metadata": {},
     "output_type": "display_data"
    },
    {
     "data": {
      "image/png": "[encoded data removed]",
      "text/plain": [
       "<Figure size 432x288 with 1 Axes>"
      ]
     },
     "metadata": {
      "needs_background": "light"
     },
     "output_type": "display_data"
    }
   ],
   "source": [
    "# Scatter plot showing the relationship between 'chocolate' and 'winpercent'\n",
    "sns.swarmplot(x=candy_data['chocolate'], y=candy_data['winpercent'])\n",
    "# Check your answer\n",
    "step_7.a.check()"
   ]
  },
  {
   "cell_type": "code",
   "execution_count": 26,
   "id": "1ac1c5c8",
   "metadata": {
    "execution": {
     "iopub.execute_input": "2021-11-29T06:24:31.059477Z",
     "iopub.status.busy": "2021-11-29T06:24:31.058867Z",
     "iopub.status.idle": "2021-11-29T06:24:31.262521Z",
     "shell.execute_reply": "2021-11-29T06:24:31.263092Z",
     "shell.execute_reply.started": "2021-11-29T06:23:40.710588Z"
    },
    "papermill": {
     "duration": 0.248913,
     "end_time": "2021-11-29T06:24:31.263270",
     "exception": false,
     "start_time": "2021-11-29T06:24:31.014357",
     "status": "completed"
    },
    "tags": []
   },
   "outputs": [
    {
     "data": {
      "application/javascript": [
       "parent.postMessage({\"jupyterEvent\": \"custom.exercise_interaction\", \"data\": {\"interactionType\": 2, \"questionType\": 2, \"questionId\": \"7.1_PlotSwarm\", \"learnToolsVersion\": \"0.3.4\", \"valueTowardsCompletion\": 0.0, \"failureMessage\": \"\", \"exceptionClass\": \"\", \"trace\": \"\", \"outcomeType\": 4}}, \"*\")"
      ],
      "text/plain": [
       "<IPython.core.display.Javascript object>"
      ]
     },
     "metadata": {},
     "output_type": "display_data"
    },
    {
     "data": {
      "text/markdown": [
       "<span style=\"color:#3366cc\">Hint:</span> Use `sns.swarmplot`, and set the variables for the x-axis and y-axis by using `x=` and `y=`, respectively."
      ],
      "text/plain": [
       "Hint: Use `sns.swarmplot`, and set the variables for the x-axis and y-axis by using `x=` and `y=`, respectively."
      ]
     },
     "metadata": {},
     "output_type": "display_data"
    },
    {
     "data": {
      "application/javascript": [
       "parent.postMessage({\"jupyterEvent\": \"custom.exercise_interaction\", \"data\": {\"interactionType\": 3, \"questionType\": 2, \"questionId\": \"7.1_PlotSwarm\", \"learnToolsVersion\": \"0.3.4\", \"valueTowardsCompletion\": 0.0, \"failureMessage\": \"\", \"exceptionClass\": \"\", \"trace\": \"\", \"outcomeType\": 4}}, \"*\")"
      ],
      "text/plain": [
       "<IPython.core.display.Javascript object>"
      ]
     },
     "metadata": {},
     "output_type": "display_data"
    },
    {
     "data": {
      "text/markdown": [
       "<span style=\"color:#33cc99\">Solution:</span> \n",
       "```python\n",
       "# Scatter plot showing the relationship between 'chocolate' and 'winpercent'\n",
       "sns.swarmplot(x=candy_data['chocolate'], y=candy_data['winpercent'])\n",
       "\n",
       "```"
      ],
      "text/plain": [
       "Solution: \n",
       "```python\n",
       "# Scatter plot showing the relationship between 'chocolate' and 'winpercent'\n",
       "sns.swarmplot(x=candy_data['chocolate'], y=candy_data['winpercent'])\n",
       "\n",
       "```"
      ]
     },
     "metadata": {},
     "output_type": "display_data"
    },
    {
     "data": {
      "image/png": "[encoded data removed]",
      "text/plain": [
       "<Figure size 432x288 with 1 Axes>"
      ]
     },
     "metadata": {
      "needs_background": "light"
     },
     "output_type": "display_data"
    }
   ],
   "source": [
    "# Lines below will give you a hint or solution code\n",
    "step_7.a.hint()\n",
    "step_7.a.solution_plot()"
   ]
  },
  {
   "cell_type": "markdown",
   "id": "394de2c0",
   "metadata": {
    "papermill": {
     "duration": 0.042717,
     "end_time": "2021-11-29T06:24:31.349891",
     "exception": false,
     "start_time": "2021-11-29T06:24:31.307174",
     "status": "completed"
    },
    "tags": []
   },
   "source": [
    "#### Part B\n",
    "\n",
    "You decide to dedicate a section of your report to the fact that chocolate candies tend to be more popular than candies without chocolate.  Which plot is more appropriate to tell this story: the plot from **Step 6**, or the plot from **Step 7**?"
   ]
  },
  {
   "cell_type": "code",
   "execution_count": 27,
   "id": "2d5a3f20",
   "metadata": {
    "execution": {
     "iopub.execute_input": "2021-11-29T06:24:31.438741Z",
     "iopub.status.busy": "2021-11-29T06:24:31.438086Z",
     "iopub.status.idle": "2021-11-29T06:24:31.442032Z",
     "shell.execute_reply": "2021-11-29T06:24:31.441472Z"
    },
    "papermill": {
     "duration": 0.049448,
     "end_time": "2021-11-29T06:24:31.442178",
     "exception": false,
     "start_time": "2021-11-29T06:24:31.392730",
     "status": "completed"
    },
    "tags": []
   },
   "outputs": [],
   "source": [
    "#step_7.b.hint()"
   ]
  },
  {
   "cell_type": "code",
   "execution_count": 28,
   "id": "0c5f8418",
   "metadata": {
    "execution": {
     "iopub.execute_input": "2021-11-29T06:24:31.534923Z",
     "iopub.status.busy": "2021-11-29T06:24:31.534261Z",
     "iopub.status.idle": "2021-11-29T06:24:31.538183Z",
     "shell.execute_reply": "2021-11-29T06:24:31.538666Z",
     "shell.execute_reply.started": "2021-11-29T06:24:03.309409Z"
    },
    "papermill": {
     "duration": 0.053591,
     "end_time": "2021-11-29T06:24:31.538845",
     "exception": false,
     "start_time": "2021-11-29T06:24:31.485254",
     "status": "completed"
    },
    "tags": []
   },
   "outputs": [
    {
     "data": {
      "application/javascript": [
       "parent.postMessage({\"jupyterEvent\": \"custom.exercise_interaction\", \"data\": {\"interactionType\": 3, \"questionType\": 4, \"questionId\": \"7.2_ThinkSwarm\", \"learnToolsVersion\": \"0.3.4\", \"valueTowardsCompletion\": 0.0, \"failureMessage\": \"\", \"exceptionClass\": \"\", \"trace\": \"\", \"outcomeType\": 4}}, \"*\")"
      ],
      "text/plain": [
       "<IPython.core.display.Javascript object>"
      ]
     },
     "metadata": {},
     "output_type": "display_data"
    },
    {
     "data": {
      "text/markdown": [
       "<span style=\"color:#33cc99\">Solution:</span> In this case, the categorical scatter plot from **Step 7** is the more appropriate plot. While both plots tell the desired story, the plot from **Step 6** conveys far more information that could distract from the main point."
      ],
      "text/plain": [
       "Solution: In this case, the categorical scatter plot from **Step 7** is the more appropriate plot. While both plots tell the desired story, the plot from **Step 6** conveys far more information that could distract from the main point."
      ]
     },
     "metadata": {},
     "output_type": "display_data"
    }
   ],
   "source": [
    "# Check your answer (Run this code cell to receive credit!)\n",
    "step_7.b.solution()"
   ]
  },
  {
   "cell_type": "markdown",
   "id": "914875ae",
   "metadata": {
    "papermill": {
     "duration": 0.043574,
     "end_time": "2021-11-29T06:24:31.626766",
     "exception": false,
     "start_time": "2021-11-29T06:24:31.583192",
     "status": "completed"
    },
    "tags": []
   },
   "source": [
    "## Keep going\n",
    "\n",
    "Explore **[histograms and density plots](https://www.kaggle.com/alexisbcook/distributions)**."
   ]
  },
  {
   "cell_type": "markdown",
   "id": "abb19271",
   "metadata": {
    "papermill": {
     "duration": 0.043328,
     "end_time": "2021-11-29T06:24:31.713672",
     "exception": false,
     "start_time": "2021-11-29T06:24:31.670344",
     "status": "completed"
    },
    "tags": []
   },
   "source": [
    "---\n",
    "\n",
    "\n",
    "\n",
    "\n",
    "*Have questions or comments? Visit the [course discussion forum](https://www.kaggle.com/learn/data-visualization/discussion) to chat with other learners.*"
   ]
  }
 ],
 "metadata": {
  "kernelspec": {
   "display_name": "Python 3",
   "language": "python",
   "name": "python3"
  },
  "language_info": {
   "codemirror_mode": {
    "name": "ipython",
    "version": 3
   },
   "file_extension": ".py",
   "mimetype": "text/x-python",
   "name": "python",
   "nbconvert_exporter": "python",
   "pygments_lexer": "ipython3",
   "version": "3.7.10"
  },
  "papermill": {
   "default_parameters": {},
   "duration": 14.433964,
   "end_time": "2021-11-29T06:24:32.366479",
   "environment_variables": {},
   "exception": null,
   "input_path": "__notebook__.ipynb",
   "output_path": "__notebook__.ipynb",
   "parameters": {},
   "start_time": "2021-11-29T06:24:17.932515",
   "version": "2.3.3"
  }
 },
 "nbformat": 4,
 "nbformat_minor": 5
}
